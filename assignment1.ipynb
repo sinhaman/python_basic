{
 "cells": [
  {
   "cell_type": "markdown",
   "metadata": {},
   "source": [
    "#TheoryQuestions\n",
    "Q1.What is Python, and why is it popular \n",
    "    Ans- Python is a programming language used to communicate with the computer using various instructions,\n",
    "         it  is popular due to its large support of library and its very user friendly interface and easy to use."
   ]
  },
  {
   "cell_type": "markdown",
   "metadata": {},
   "source": [
    "Q2.What is an interpreter in Python \n",
    " Ans- An interpreter in Python  used to convert high level language into machine level lenguage,python interpreter checks the code line by line and executes it directely."
   ]
  },
  {
   "cell_type": "markdown",
   "metadata": {},
   "source": [
    "Q3.What are pre-defined keywords in Python ?\n",
    "  Ans-Python keyword reserved words that cannot be used as variable names, function names, or any other identifiers.\n",
    "    Ex. AND, OR ,IF ,ELSE,DEF,INT,INPUT,FLOAT ETC"
   ]
  },
  {
   "cell_type": "markdown",
   "metadata": {},
   "source": [
    "Q4. Can keywords be used as variable names ?\n",
    "    Ans- \"No\", Because they are Reserve words."
   ]
  },
  {
   "cell_type": "markdown",
   "metadata": {},
   "source": [
    "Q5. What is mutability in Python ?\n",
    " Ans- those type of objects in python which is changable called mutablity.\n",
    "    Ex. List."
   ]
  },
  {
   "cell_type": "markdown",
   "metadata": {},
   "source": [
    "Q6.Why are lists mutable, but tuples are immutable ?\n",
    " Ans- Lists are the  collections of items where we might need to change the contents (e.g. add, remove, or modify elements). so, it is mutable and dynamic in nature, tuples are immutable due to is static nature,where we don't need to modify elements."
   ]
  },
  {
   "cell_type": "markdown",
   "metadata": {},
   "source": [
    "Q7. What is the difference between “==” and “is” operators in Python ?\n",
    " Ans- \"==\" is comarison operator used to compare the value between two operand and to check  values are the same or not .\n",
    " \"is\" is an identity operator used to check the two variable refer to the same memory.\n",
    "    a = 5\n",
    "    b=a\n",
    "    c=b\n",
    "    print(b is c)\n",
    "    print(a==c)"
   ]
  },
  {
   "cell_type": "markdown",
   "metadata": {},
   "source": [
    "Q8.What are logical operators in Python ?\n",
    " Ans- AND , OR ,NOT\n",
    " AND- Gives True if both conditions are True. Otherwise, it returns False.\n",
    " OR -gives True if at least one of the conditions is True. If both are False, it returns False.\n",
    " NOT- it gives opposite output repect to the input."
   ]
  },
  {
   "cell_type": "markdown",
   "metadata": {},
   "source": [
    "Q9.What is type casting in Python ?\n",
    "    Ans- when we change one data type into another data type in python called as typecasting .\n",
    "    "
   ]
  },
  {
   "cell_type": "markdown",
   "metadata": {},
   "source": [
    "Q10. What is the difference between implicit and explicit type casting ?\n",
    " Ans - implicit - when python automatically chnages the data type internally.\n",
    "    explicit- when we forcefully convert one data type into another .\n",
    "    Ex. a = '2'\n",
    "    int(a)\n"
   ]
  },
  {
   "cell_type": "markdown",
   "metadata": {},
   "source": [
    "Q11.What is the purpose of conditional statements in Python ?\n",
    " Ans-conditional statements used to control the flow of the program based on certain condition."
   ]
  },
  {
   "cell_type": "markdown",
   "metadata": {},
   "source": [
    "Q12. How does the elif statement work ?\n",
    "  Ans- \"elif\" is a conditional statement used to check multiple conditions after \"IF\" condition."
   ]
  },
  {
   "cell_type": "markdown",
   "metadata": {},
   "source": [
    "Q13.What is the difference between for and while loops ?\n",
    " Ans- for loop in python is used when we know how many times the loop will have to run but \"while\" loop  is used when we    want to execute a block of code untill the condition  is \"TRUE\". "
   ]
  },
  {
   "cell_type": "markdown",
   "metadata": {},
   "source": [
    "Q14.Describe a scenario where a while loop is more suitable than a for loop?\n",
    "Ans - We can use \"while\" loop for validationof password because we don't know how many times user enter a wrong password."
   ]
  },
  {
   "cell_type": "code",
   "execution_count": 9,
   "metadata": {},
   "outputs": [
    {
     "name": "stdout",
     "output_type": "stream",
     "text": [
      "Hello World\n"
     ]
    }
   ],
   "source": [
    "#practical Question \n",
    "#Q1. Write a Python program to print \"Hello, World!\n",
    "print(\"Hello World\")"
   ]
  },
  {
   "cell_type": "code",
   "execution_count": 11,
   "metadata": {},
   "outputs": [
    {
     "name": "stdout",
     "output_type": "stream",
     "text": [
      "aman \n",
      " 23\n"
     ]
    }
   ],
   "source": [
    "    #Q2.Write a Python program that displays your name and age\n",
    "name = input(\"Enter Your name :\")\n",
    "age = int (input(\"Enter your age :\"))\n",
    "print(name,'\\n' ,age)"
   ]
  },
  {
   "cell_type": "code",
   "execution_count": null,
   "metadata": {},
   "outputs": [
    {
     "name": "stdout",
     "output_type": "stream",
     "text": [
      "Python Keywords: ['False', 'None', 'True', 'and', 'as', 'assert', 'async', 'await', 'break', 'class', 'continue', 'def', 'del', 'elif', 'else', 'except', 'finally', 'for', 'from', 'global', 'if', 'import', 'in', 'is', 'lambda', 'nonlocal', 'not', 'or', 'pass', 'raise', 'return', 'try', 'while', 'with', 'yield']\n"
     ]
    }
   ],
   "source": [
    "#Q3.Write code to print all the pre-defined keywords in Python using the keyword library\n",
    "import keyword\n",
    "print(\" Keywords:\", keyword.kwlist)"
   ]
  },
  {
   "cell_type": "code",
   "execution_count": 18,
   "metadata": {},
   "outputs": [
    {
     "name": "stdout",
     "output_type": "stream",
     "text": [
      "if word is not a keyword\n"
     ]
    }
   ],
   "source": [
    "#Q4. Write a program that checks if a given word is a Python keyword.\n",
    "import keyword\n",
    "word = input(\"Enter Your word :\")\n",
    "if word == keyword.kwlist:\n",
    "    print(word,\"word is a keyword\")\n",
    "else:\n",
    "    print(word,\"word is not a keyword\")\n",
    "\n"
   ]
  },
  {
   "cell_type": "code",
   "execution_count": 1,
   "metadata": {},
   "outputs": [
    {
     "name": "stdout",
     "output_type": "stream",
     "text": [
      "['mango', 'grapes', 'orange']\n",
      "['apple', 'grapes', 'orange']\n",
      "('1', '2', '3')\n"
     ]
    },
    {
     "ename": "TypeError",
     "evalue": "'tuple' object does not support item assignment",
     "output_type": "error",
     "traceback": [
      "\u001b[31m---------------------------------------------------------------------------\u001b[39m",
      "\u001b[31mTypeError\u001b[39m                                 Traceback (most recent call last)",
      "\u001b[36mCell\u001b[39m\u001b[36m \u001b[39m\u001b[32mIn[1]\u001b[39m\u001b[32m, line 9\u001b[39m\n\u001b[32m      7\u001b[39m number_tuple =(\u001b[33m\"\u001b[39m\u001b[33m1\u001b[39m\u001b[33m\"\u001b[39m,\u001b[33m\"\u001b[39m\u001b[33m2\u001b[39m\u001b[33m\"\u001b[39m,\u001b[33m\"\u001b[39m\u001b[33m3\u001b[39m\u001b[33m\"\u001b[39m)\u001b[38;5;66;03m#creating tuple\u001b[39;00m\n\u001b[32m      8\u001b[39m \u001b[38;5;28mprint\u001b[39m(number_tuple)\n\u001b[32m----> \u001b[39m\u001b[32m9\u001b[39m \u001b[43mnumber_tuple\u001b[49m\u001b[43m[\u001b[49m\u001b[32;43m0\u001b[39;49m\u001b[43m]\u001b[49m= \u001b[33m\"\u001b[39m\u001b[33m5\u001b[39m\u001b[33m\"\u001b[39m\u001b[38;5;66;03m#accessing element by index in tuple gives error\u001b[39;00m\n\u001b[32m     10\u001b[39m \u001b[38;5;28mprint\u001b[39m(number_tuple)\n",
      "\u001b[31mTypeError\u001b[39m: 'tuple' object does not support item assignment"
     ]
    }
   ],
   "source": [
    "#Q5Create a list and tuple in Python, and demonstrate how attempting to change an element works differently\n",
    "#for each\n",
    "fruit = [\"mango\",\"grapes\",\"orange\"] #creating list \n",
    "print(fruit)\n",
    "fruit[0]=\"apple\"#accessing element by index\n",
    "print(fruit)\n",
    "number_tuple =(\"1\",\"2\",\"3\")#creating tuple\n",
    "print(number_tuple)\n",
    "number_tuple[0]= \"5\"#accessing element by index in tuple gives error\n",
    "print(number_tuple)"
   ]
  },
  {
   "cell_type": "code",
   "execution_count": null,
   "metadata": {},
   "outputs": [
    {
     "name": "stdout",
     "output_type": "stream",
     "text": [
      "Before function call, x = 10\n",
      "In function: val = 10\n",
      "In function after modification: val = 15\n",
      "After function call, x = 10\n",
      "Before function call, y = [1, 2, 3]\n",
      "In function: lst = [1, 2, 3]\n",
      "After function call, y = [1, 2, 3, 4]\n"
     ]
    }
   ],
   "source": [
    "#Q6#Write a function to demonstrate the behavior of mutable and immutable arguments\n",
    "def immutable(val):\n",
    "    print(f\"In function: val = {val}\")\n",
    "    val += 5  # Creates a new object with the value of 'val + 5'\n",
    "    print(f\"In function after modification: val = {val}\")\n",
    "\n",
    "x = 10\n",
    "print(f\"Before function call, x = {x}\")\n",
    "immutable(x)\n",
    "print(f\"After function call, x = {x}\")\n",
    "\n",
    "def mutable(lst):\n",
    "    print(f\"In function: lst = {lst}\")\n",
    "    lst.append(4)  # Modifies the original list by appending an element\n",
    "\n",
    "y = [1, 2, 3]\n",
    "print(f\"Before function call, y = {y}\")\n",
    "mutable(y)\n",
    "print(f\"After function call, y = {y}\")\n"
   ]
  },
  {
   "cell_type": "code",
   "execution_count": null,
   "metadata": {},
   "outputs": [
    {
     "name": "stdout",
     "output_type": "stream",
     "text": [
      "sum_result =  80.0\n",
      "diff_result =  72.0\n",
      "mul_result =  304.0\n",
      "exp_result =  33362176.0\n",
      "mod_result =  0.0\n",
      "div_result =  19.0\n"
     ]
    }
   ],
   "source": [
    "#Q7Write a program that performs basic arithmetic operations on two user-input numbers.\n",
    "    # Taking input from the user\n",
    "num1 = float(input(\"Enter the first number: \"))\n",
    "num2 = float(input(\"Enter the second number: \"))\n",
    "    \n",
    "    # Performing arithmetic operations\n",
    "print(\"sum_result = \",num1 + num2)\n",
    "print(\"diff_result = \",num1 - num2)\n",
    "print(\"mul_result = \",num1 * num2)\n",
    "print(\"exp_result = \",num1 **num2)\n",
    "print(\"mod_result = \",num1%num2)\n",
    "\n",
    "\n",
    "    \n",
    "    # Handling division and checking for division by zero\n",
    "if num2 != 0:\n",
    "       print(\"div_result = \",num1 / num2)\n",
    "else:\n",
    "        print(\"cannot divide by zero\") \n",
    "\n"
   ]
  },
  {
   "cell_type": "code",
   "execution_count": 2,
   "metadata": {},
   "outputs": [
    {
     "name": "stdout",
     "output_type": "stream",
     "text": [
      "both are friend\n"
     ]
    }
   ],
   "source": [
    " #Q8Write a program to demonstrate the use of logical operators in python\n",
    "aman = True\n",
    "bablu= True \n",
    "if(aman and bablu == True):\n",
    "    print(\"both are friend\")\n",
    "elif(aman or bablu == True ):\n",
    "    print(\"aman knows bablu\")\n",
    "elif( not bablu==True):\n",
    "    print(\" lie\")\n",
    "\n"
   ]
  },
  {
   "cell_type": "code",
   "execution_count": 2,
   "metadata": {},
   "outputs": [
    {
     "name": "stdout",
     "output_type": "stream",
     "text": [
      "Integer value: 5\n",
      "Float value: 5.0\n",
      "Boolean value:  True\n"
     ]
    }
   ],
   "source": [
    "#Q9Write a Python program to convert user input from string to integer, float, and boolean types.\n",
    "input = input(\"Please enter a value: \")\n",
    "\n",
    "\n",
    "int_value = int(input)\n",
    "print(\"Integer value:\", int_value)\n",
    "\n",
    "float_value = float(input)\n",
    "print(\"Float value:\",float_value)\n",
    "boolean_value = bool(input)\n",
    "print(\"Boolean value: \",boolean_value)\n"
   ]
  },
  {
   "cell_type": "code",
   "execution_count": 1,
   "metadata": {},
   "outputs": [
    {
     "name": "stdout",
     "output_type": "stream",
     "text": [
      "The number is positive.\n"
     ]
    }
   ],
   "source": [
    "#Q10. Write code to demonstrate type casting with list elements.\n",
    "#Q11.Write a program that checks if a number is positive, negative, or zero.\n",
    "num = float(input(\"Enter a number: \"))\n",
    "\n",
    "# Check if the number is positive, negative, or zero\n",
    "if num > 0:\n",
    "    print(\"The number is positive.\")\n",
    "elif num < 0:\n",
    "    print(\"The number is negative.\")\n",
    "else:\n",
    "    print(\"The number is zero.\")\n"
   ]
  },
  {
   "cell_type": "code",
   "execution_count": 5,
   "metadata": {},
   "outputs": [
    {
     "name": "stdout",
     "output_type": "stream",
     "text": [
      "1\n",
      "2\n",
      "3\n",
      "4\n",
      "5\n",
      "6\n",
      "7\n",
      "8\n",
      "9\n",
      "10\n"
     ]
    }
   ],
   "source": [
    "#Q12 Write a for loop to print numbers from 1 to 10.\n",
    "for i in range(1,11):\n",
    "    print(i)"
   ]
  },
  {
   "cell_type": "code",
   "execution_count": 8,
   "metadata": {},
   "outputs": [
    {
     "name": "stdout",
     "output_type": "stream",
     "text": [
      "the sum of all even number from 1 to 50 is  650\n"
     ]
    }
   ],
   "source": [
    "#Q13. Write a Python program to find the sum of all even numbers between 1 and 50.\n",
    "sum  = 0\n",
    "for i in range(1,51):\n",
    "    if (i%2 == 0):\n",
    "     sum += i\n",
    "print(\"the sum of all even number from 1 to 50 is \",sum)"
   ]
  },
  {
   "cell_type": "code",
   "execution_count": 1,
   "metadata": {},
   "outputs": [
    {
     "data": {
      "text/plain": [
       "'ahnisnama'"
      ]
     },
     "execution_count": 1,
     "metadata": {},
     "output_type": "execute_result"
    }
   ],
   "source": [
    "#Q!4 Write a program to reverse a string using a while loop(solved with help of google)\n",
    "# Take input from the user\n",
    "input = input(\"Enter a string: \")\n",
    "input[::-1]\n",
    "\n",
    "\n"
   ]
  },
  {
   "cell_type": "code",
   "execution_count": null,
   "metadata": {},
   "outputs": [],
   "source": [
    "#Q15.Write a Python program to calculate the factorial of a number provided by the user using a while loop.\n",
    "# Take input from the user\n",
    "num = int(input(\"Enter a number: \"))\n",
    "\n",
    "# Initialize the factorial result to 1\n",
    "factorial = 1\n",
    "\n",
    "# Check if the number is negative, zero, or positive\n",
    "if num < 0:\n",
    "    print(\"Factorial does not exist for negative numbers.\")\n",
    "elif num == 0:\n",
    "    print(\"The factorial of 0 is 1.\")\n",
    "else:\n",
    "    # Use a while loop to calculate the factorial\n",
    "    while num > 0:\n",
    "        factorial *= num  # Multiply the current factorial by the number\n",
    "        num -= 1  # Decrement the number\n",
    "    print(\"The factorial is:\", factorial)\n"
   ]
  }
 ],
 "metadata": {
  "kernelspec": {
   "display_name": "Python 3",
   "language": "python",
   "name": "python3"
  },
  "language_info": {
   "codemirror_mode": {
    "name": "ipython",
    "version": 3
   },
   "file_extension": ".py",
   "mimetype": "text/x-python",
   "name": "python",
   "nbconvert_exporter": "python",
   "pygments_lexer": "ipython3",
   "version": "3.13.2"
  }
 },
 "nbformat": 4,
 "nbformat_minor": 2
}
